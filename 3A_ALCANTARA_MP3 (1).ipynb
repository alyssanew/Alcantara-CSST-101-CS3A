{
  "nbformat": 4,
  "nbformat_minor": 0,
  "metadata": {
    "colab": {
      "provenance": []
    },
    "kernelspec": {
      "name": "python3",
      "display_name": "Python 3"
    },
    "language_info": {
      "name": "python"
    }
  },
  "cells": [
    {
      "cell_type": "markdown",
      "source": [
        "\n",
        "# Machine Problem: Interactive Probability and Decision-Making in AI\n",
        "\n",
        "# Part 1: Implement Basic Probability Calculations\n",
        "1. Task: Write Python functions to calculate the following:`\n",
        "\n",
        "**Joint Probability**"
      ],
      "metadata": {
        "id": "3pRzceS5Riii"
      }
    },
    {
      "cell_type": "code",
      "execution_count": 1,
      "metadata": {
        "id": "RZQOoQToRhZ2"
      },
      "outputs": [],
      "source": [
        "def joint_probability(p_a, p_b):\n",
        "    return p_a * p_b"
      ]
    },
    {
      "cell_type": "markdown",
      "source": [
        "**Marginal Probability**"
      ],
      "metadata": {
        "id": "Xtb70a8UR652"
      }
    },
    {
      "cell_type": "code",
      "source": [
        "def marginal_probability(p_a_given_b, p_b):\n",
        "    return p_a_given_b * p_b"
      ],
      "metadata": {
        "id": "oaKjOk6bR_-_"
      },
      "execution_count": 2,
      "outputs": []
    },
    {
      "cell_type": "markdown",
      "source": [
        "**Conditional Probability**"
      ],
      "metadata": {
        "id": "zo_DSnFySFrh"
      }
    },
    {
      "cell_type": "code",
      "source": [
        "def conditional_probability(p_a_and_b, p_b):\n",
        "    return p_a_and_b / p_b"
      ],
      "metadata": {
        "id": "U_C1d1B8SGIH"
      },
      "execution_count": 8,
      "outputs": []
    },
    {
      "cell_type": "markdown",
      "source": [
        "**Interactive Component**"
      ],
      "metadata": {
        "id": "MyWuWnwoSRZy"
      }
    },
    {
      "cell_type": "code",
      "source": [
        "def main():\n",
        "    p_a = float(input(\"Enter the probability of event A: \"))\n",
        "    p_b = float(input(\"Enter the probability of event B: \"))\n",
        "    p_b_given_a = float(input(\"Enter the probability of B given A: \"))\n",
        "\n",
        "    joint_prob = joint_probability(p_a, p_b)\n",
        "    print(f\"\\nJoint probability: {joint_prob}\")\n",
        "\n",
        "    marginal_prob = marginal_probability(p_b_given_a, p_a)\n",
        "    print(f\"\\nMarginal probability: {marginal_prob}\")\n",
        "\n",
        "    cond_prob = conditional_probability(joint_prob, p_b)\n",
        "    print(f\"\\nConditional probability: {cond_prob}\")\n",
        "\n",
        "main()"
      ],
      "metadata": {
        "colab": {
          "base_uri": "https://localhost:8080/"
        },
        "id": "Khzpl0XqTNP5",
        "outputId": "a9dcfff5-6690-4152-b0e5-04a27ab8e2ab"
      },
      "execution_count": 10,
      "outputs": [
        {
          "output_type": "stream",
          "name": "stdout",
          "text": [
            "Enter the probability of event A: 0.4\n",
            "Enter the probability of event B: 0.6\n",
            "Enter the probability of B given A: 0.8\n",
            "\n",
            "Joint probability: 0.24\n",
            "\n",
            "Marginal probability: 0.32000000000000006\n",
            "\n",
            "Conditional probability: 0.4\n"
          ]
        }
      ]
    },
    {
      "cell_type": "markdown",
      "source": [
        "# **Part 2: Bayesian Inference for Real-World Scenarios**"
      ],
      "metadata": {
        "id": "ocMEB6L0T0ka"
      }
    },
    {
      "cell_type": "markdown",
      "source": [
        "1. Task: Implement a Python function that uses Bayesian inference to update probabilities based on new evidence."
      ],
      "metadata": {
        "id": "-ooihLWVUDqs"
      }
    },
    {
      "cell_type": "code",
      "source": [
        "def bayesian_inference(p_prior, p_pos_given_disease, p_pos):\n",
        "    return (p_pos_given_disease * p_prior) / p_pos\n",
        ""
      ],
      "metadata": {
        "id": "cxkOZUa2T0xW"
      },
      "execution_count": 11,
      "outputs": []
    },
    {
      "cell_type": "markdown",
      "source": [
        "**2. Interactive Component**"
      ],
      "metadata": {
        "id": "BZImCJEvUMZr"
      }
    },
    {
      "cell_type": "code",
      "source": [
        "p_prior = float(input(\"Enter the prior probability of disease: \"))\n",
        "p_pos_given_disease = float(input(\"Enter the likelihood of a positive test given disease: \"))\n",
        "p_pos = float(input(\"Enter the overall probability of a positive test: \"))\n",
        "\n",
        "posterior_prob = bayesian_inference(p_prior, p_pos_given_disease, p_pos)\n",
        "\n",
        "print(f\"\\nPosterior probability of disease given positive test: {posterior_prob:.4f}\")\n",
        ""
      ],
      "metadata": {
        "colab": {
          "base_uri": "https://localhost:8080/"
        },
        "id": "8OGK14vmUSdn",
        "outputId": "d6712aea-8522-42b5-df11-6097e08ea247"
      },
      "execution_count": 12,
      "outputs": [
        {
          "output_type": "stream",
          "name": "stdout",
          "text": [
            "Enter the prior probability of disease: 0.2\n",
            "Enter the likelihood of a positive test given disease: 0.1\n",
            "Enter the overall probability of a positive test: 0.2\n",
            "\n",
            "Posterior probability of disease given positive test: 0.1000\n"
          ]
        }
      ]
    },
    {
      "cell_type": "markdown",
      "source": [
        "# **Part 3: Simulate Decision Making Under Uncertainty**"
      ],
      "metadata": {
        "id": "DnNRxlwIUdl9"
      }
    },
    {
      "cell_type": "code",
      "source": [
        "\n",
        "import numpy as np\n",
        "\n",
        "def simulate_decision(prob_success, reward, penalty, trials):\n",
        "    results = []\n",
        "    for _ in range(trials):\n",
        "        if np.random.rand() < prob_success:\n",
        "            results.append(reward)\n",
        "        else:\n",
        "            results.append(penalty)\n",
        "    return np.mean(results)"
      ],
      "metadata": {
        "id": "NHaNjB6PUoUa"
      },
      "execution_count": 13,
      "outputs": []
    },
    {
      "cell_type": "markdown",
      "source": [
        "# Interactive Component"
      ],
      "metadata": {
        "id": "t-_FfhzcUsG5"
      }
    },
    {
      "cell_type": "code",
      "source": [
        "def simulate_decision(prob_success, reward, penalty, trials):\n",
        "    return (prob_success * reward - (1 - prob_success) * penalty) * trials\n",
        "\n",
        "prob_success = float(input(\"Enter the probability of success: \"))\n",
        "reward = float(input(\"Enter the reward for success: \"))\n",
        "penalty = float(input(\"Enter the penalty for failure: \"))\n",
        "trials = int(input(\"Enter the number of trials: \"))\n",
        "\n",
        "average_return = simulate_decision(prob_success, reward, penalty, trials)\n",
        "print(f\"\\nAverage return after {trials} trials: {average_return}\")\n",
        ""
      ],
      "metadata": {
        "colab": {
          "base_uri": "https://localhost:8080/"
        },
        "id": "EVeiHbzNUwM-",
        "outputId": "edf87637-66a1-4ccd-850e-f7194a6100c9"
      },
      "execution_count": 14,
      "outputs": [
        {
          "output_type": "stream",
          "name": "stdout",
          "text": [
            "Enter the probability of success: 0.5\n",
            "Enter the reward for success: 0.5\n",
            "Enter the penalty for failure: 0.3\n",
            "Enter the number of trials: 20\n",
            "\n",
            "Average return after 20 trials: 2.0\n"
          ]
        }
      ]
    },
    {
      "cell_type": "markdown",
      "source": [
        "# **Part 4: Visualize Probability Distributions**"
      ],
      "metadata": {
        "id": "G24dZMoYVCjI"
      }
    },
    {
      "cell_type": "code",
      "source": [
        "import matplotlib.pyplot as plt\n",
        "import numpy as np\n",
        "from scipy.stats import binom, norm\n",
        "\n",
        "def visualize_binomial(n, p):\n",
        "    x = np.arange(0, n+1)\n",
        "    binom_dist = binom.pmf(x, n, p)\n",
        "    plt.bar(x, binom_dist)\n",
        "    plt.title(\"Binomial Distribution (Coin Flips)\")\n",
        "    plt.xlabel(\"Number of Heads (Successes)\")\n",
        "    plt.ylabel(\"Probability\")\n",
        "    plt.show()\n",
        "\n",
        "def visualize_normal(mean, std):\n",
        "    x = np.linspace(mean - 4*std, mean + 4*std, 1000)\n",
        "    normal_dist = norm.pdf(x, mean, std)\n",
        "    plt.plot(x, normal_dist)\n",
        "    plt.title(\"Normal Distribution (Exam Scores)\")\n",
        "    plt.xlabel(\"Score\")\n",
        "    plt.ylabel(\"Probability Density\")\n",
        "    plt.show()"
      ],
      "metadata": {
        "id": "9umnSQ7yVNNb"
      },
      "execution_count": 15,
      "outputs": []
    },
    {
      "cell_type": "markdown",
      "source": [
        "# Interactive Component"
      ],
      "metadata": {
        "id": "w2ZXMhkfVC23"
      }
    },
    {
      "cell_type": "code",
      "source": [
        "print(\"Choose a distribution to simulate:\\n1. Binomial (Coin flips)\\n2. Normal (Exam scores)\\n\")\n",
        "\n",
        "dist_choice = input(\"Enter 1 for Binomial or 2 for Normal: \")\n",
        "\n",
        "if dist_choice == \"1\":\n",
        "    print(\"\\nYou selected: Binomial (Coin flips)\\n\")\n",
        "    n = int(input(\"Enter the number of trials: \"))\n",
        "    p = float(input(\"Enter the probability of heads (success): \"))\n",
        "    print()\n",
        "    visualize_binomial(n, p)\n",
        "\n",
        "elif dist_choice == \"2\":\n",
        "    print(\"\\nYou selected: Normal (Exam scores)\\n\")\n",
        "    mean = float(input(\"Enter the mean score: \"))\n",
        "    std = float(input(\"Enter the standard deviation of the scores: \"))\n",
        "    print()\n",
        "    visualize_normal(mean, std)\n",
        "\n",
        "else:\n",
        "    print(\"\\nInvalid choice! Please enter 1 for Binomial or 2 for Normal.\")\n",
        ""
      ],
      "metadata": {
        "colab": {
          "base_uri": "https://localhost:8080/",
          "height": 663
        },
        "id": "bFDyvEEBVZ2x",
        "outputId": "bd54142c-e742-4225-dabe-7d0c492b947d"
      },
      "execution_count": 20,
      "outputs": [
        {
          "output_type": "stream",
          "name": "stdout",
          "text": [
            "Choose a distribution to simulate:\n",
            "1. Binomial (Coin flips)\n",
            "2. Normal (Exam scores)\n",
            "\n",
            "Enter 1 for Binomial or 2 for Normal: 1\n",
            "\n",
            "You selected: Binomial (Coin flips)\n",
            "\n",
            "Enter the number of trials: 30\n",
            "Enter the probability of heads (success): 0.3\n",
            "\n"
          ]
        },
        {
          "output_type": "display_data",
          "data": {
            "text/plain": [
              "<Figure size 640x480 with 1 Axes>"
            ],
            "image/png": "[encoded data removed]"
          },
          "metadata": {}
        }
      ]
    },
    {
      "cell_type": "markdown",
      "source": [
        "# **Real-World Scenario Prediction**"
      ],
      "metadata": {
        "id": "ite44my1XCzi"
      }
    },
    {
      "cell_type": "code",
      "source": [
        "def rain_prediction(humidity_level, cloud_cover_level):\n",
        "    p_humidity = humidity_level\n",
        "    p_cloud = cloud_cover_level\n",
        "\n",
        "    p_rain = 0.3\n",
        "    p_humidity_given_rain = 0.8\n",
        "    p_cloud_given_rain = 0.7\n",
        "\n",
        "    return (p_humidity_given_rain * p_cloud_given_rain * p_rain) / (p_humidity * p_cloud)\n",
        ""
      ],
      "metadata": {
        "id": "X0uy-mj5XOsa"
      },
      "execution_count": 21,
      "outputs": []
    },
    {
      "cell_type": "markdown",
      "source": [
        "Interactive Component:"
      ],
      "metadata": {
        "id": "ciaajTT2XOUY"
      }
    },
    {
      "cell_type": "code",
      "source": [
        "humidity_level = float(input(\"Enter the humidity level (0 to 1): \"))\n",
        "cloud_cover_level = float(input(\"Enter the cloud cover level (0 to 1): \"))\n",
        "\n",
        "rain_prob = rain_prediction(humidity_level, cloud_cover_level)\n",
        "print(f\"\\nProbability of rain: {rain_prob:.2f}\")\n",
        ""
      ],
      "metadata": {
        "colab": {
          "base_uri": "https://localhost:8080/"
        },
        "id": "98fhRmfkXaHo",
        "outputId": "dd1a41b5-8c9b-49fd-e99c-1eeee0e68b16"
      },
      "execution_count": 22,
      "outputs": [
        {
          "output_type": "stream",
          "name": "stdout",
          "text": [
            "Enter the humidity level (0 to 1): 2\n",
            "Enter the cloud cover level (0 to 1): 1\n",
            "\n",
            "Probability of rain: 0.08\n"
          ]
        }
      ]
    }
  ]
}